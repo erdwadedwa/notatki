{
 "cells": [
  {
   "cell_type": "code",
   "execution_count": 1,
   "metadata": {
    "collapsed": true
   },
   "outputs": [],
   "source": [
    "def pomnoz(x,y,z):\n",
    "    wynik=x*y*z\n",
    "    return wynik"
   ]
  },
  {
   "cell_type": "code",
   "execution_count": 2,
   "metadata": {},
   "outputs": [
    {
     "data": {
      "text/plain": [
       "40"
      ]
     },
     "execution_count": 2,
     "metadata": {},
     "output_type": "execute_result"
    }
   ],
   "source": [
    "pomnoz(2,5,4)"
   ]
  },
  {
   "cell_type": "code",
   "execution_count": 3,
   "metadata": {},
   "outputs": [
    {
     "data": {
      "text/plain": [
       "45"
      ]
     },
     "execution_count": 3,
     "metadata": {},
     "output_type": "execute_result"
    }
   ],
   "source": [
    "moj_wynik = pomnoz(3,5,3)\n",
    "moj_wynik"
   ]
  },
  {
   "cell_type": "code",
   "execution_count": 4,
   "metadata": {
    "collapsed": true
   },
   "outputs": [],
   "source": [
    "prezes = 160"
   ]
  },
  {
   "cell_type": "code",
   "execution_count": 5,
   "metadata": {},
   "outputs": [
    {
     "name": "stdout",
     "output_type": "stream",
     "text": [
      "Wielki Czlowiek\n"
     ]
    }
   ],
   "source": [
    "if prezes >150:\n",
    "    print('Wielki Czlowiek')\n",
    "    \n",
    "    #W R byloby  if (prezes >150):\n",
    "    #print('Wielki Czlowiek')"
   ]
  },
  {
   "cell_type": "code",
   "execution_count": 6,
   "metadata": {
    "collapsed": true
   },
   "outputs": [],
   "source": [
    "if prezes >180:\n",
    "    print('WIELKI CZŁOWIEK')"
   ]
  },
  {
   "cell_type": "code",
   "execution_count": 7,
   "metadata": {},
   "outputs": [
    {
     "name": "stdout",
     "output_type": "stream",
     "text": [
      "człowiek wielki duchem\n"
     ]
    }
   ],
   "source": [
    "if prezes >180:\n",
    "    print('WIELKI CZŁOWIEK')\n",
    "else: \n",
    "    print('człowiek wielki duchem')"
   ]
  },
  {
   "cell_type": "code",
   "execution_count": 8,
   "metadata": {
    "collapsed": true
   },
   "outputs": [],
   "source": [
    "mateusz = 7000000"
   ]
  },
  {
   "cell_type": "code",
   "execution_count": 9,
   "metadata": {},
   "outputs": [
    {
     "name": "stdout",
     "output_type": "stream",
     "text": [
      "Na waciki styknie\n"
     ]
    }
   ],
   "source": [
    "if mateusz > 10000000:\n",
    "    print('Człowiek bogaty majątkiem')\n",
    "elif mateusz > 5000000:\n",
    "    print('Na waciki styknie')\n",
    "else: \n",
    "    print('Artur Żmijewski')"
   ]
  },
  {
   "cell_type": "code",
   "execution_count": 15,
   "metadata": {
    "collapsed": true
   },
   "outputs": [],
   "source": [
    "import numpy as np"
   ]
  },
  {
   "cell_type": "code",
   "execution_count": 16,
   "metadata": {
    "collapsed": true
   },
   "outputs": [],
   "source": [
    "seed = np.random.RandomState(1)"
   ]
  },
  {
   "cell_type": "code",
   "execution_count": 17,
   "metadata": {},
   "outputs": [
    {
     "data": {
      "text/plain": [
       "array([ 1.62434536, -0.61175641, -0.52817175, -1.07296862,  0.86540763,\n",
       "       -2.3015387 ,  1.74481176, -0.7612069 ,  0.3190391 , -0.24937038,\n",
       "        1.46210794, -2.06014071, -0.3224172 , -0.38405435,  1.13376944,\n",
       "       -1.09989127, -0.17242821, -0.87785842,  0.04221375,  0.58281521,\n",
       "       -1.10061918,  1.14472371,  0.90159072,  0.50249434,  0.90085595,\n",
       "       -0.68372786, -0.12289023, -0.93576943, -0.26788808,  0.53035547,\n",
       "       -0.69166075, -0.39675353, -0.6871727 , -0.84520564, -0.67124613,\n",
       "       -0.0126646 , -1.11731035,  0.2344157 ,  1.65980218,  0.74204416,\n",
       "       -0.19183555, -0.88762896, -0.74715829,  1.6924546 ,  0.05080775,\n",
       "       -0.63699565,  0.19091548,  2.10025514,  0.12015895,  0.61720311,\n",
       "        0.30017032, -0.35224985, -1.1425182 , -0.34934272, -0.20889423,\n",
       "        0.58662319,  0.83898341,  0.93110208,  0.28558733,  0.88514116,\n",
       "       -0.75439794,  1.25286816,  0.51292982, -0.29809284,  0.48851815,\n",
       "       -0.07557171,  1.13162939,  1.51981682,  2.18557541, -1.39649634,\n",
       "       -1.44411381, -0.50446586,  0.16003707,  0.87616892,  0.31563495,\n",
       "       -2.02220122, -0.30620401,  0.82797464,  0.23009474,  0.76201118,\n",
       "       -0.22232814, -0.20075807,  0.18656139,  0.41005165,  0.19829972,\n",
       "        0.11900865, -0.67066229,  0.37756379,  0.12182127,  1.12948391,\n",
       "        1.19891788,  0.18515642, -0.37528495, -0.63873041,  0.42349435,\n",
       "        0.07734007, -0.34385368,  0.04359686, -0.62000084,  0.69803203])"
      ]
     },
     "execution_count": 17,
     "metadata": {},
     "output_type": "execute_result"
    }
   ],
   "source": [
    "lista = seed.normal(size=100)\n",
    "lista"
   ]
  },
  {
   "cell_type": "code",
   "execution_count": 18,
   "metadata": {
    "collapsed": true
   },
   "outputs": [],
   "source": [
    "def dest(array, mean, sd):\n",
    "    import numpy as np\n",
    "    dest =np.round(array*sd + mean, decimals = 0)\n",
    "    return dest"
   ]
  },
  {
   "cell_type": "code",
   "execution_count": 21,
   "metadata": {},
   "outputs": [
    {
     "data": {
      "text/plain": [
       "array([ 124.,   91.,   92.,   84.,  113.,   65.,  126.,   89.,  105.,\n",
       "         96.,  122.,   69.,   95.,   94.,  117.,   84.,   97.,   87.,\n",
       "        101.,  109.,   83.,  117.,  114.,  108.,  114.,   90.,   98.,\n",
       "         86.,   96.,  108.,   90.,   94.,   90.,   87.,   90.,  100.,\n",
       "         83.,  104.,  125.,  111.,   97.,   87.,   89.,  125.,  101.,\n",
       "         90.,  103.,  132.,  102.,  109.,  105.,   95.,   83.,   95.,\n",
       "         97.,  109.,  113.,  114.,  104.,  113.,   89.,  119.,  108.,\n",
       "         96.,  107.,   99.,  117.,  123.,  133.,   79.,   78.,   92.,\n",
       "        102.,  113.,  105.,   70.,   95.,  112.,  103.,  111.,   97.,\n",
       "         97.,  103.,  106.,  103.,  102.,   90.,  106.,  102.,  117.,\n",
       "        118.,  103.,   94.,   90.,  106.,  101.,   95.,  101.,   91.,  110.])"
      ]
     },
     "execution_count": 21,
     "metadata": {},
     "output_type": "execute_result"
    }
   ],
   "source": [
    "IQ = dest(lista, 100, 15)\n",
    "IQ"
   ]
  },
  {
   "cell_type": "code",
   "execution_count": 22,
   "metadata": {},
   "outputs": [
    {
     "name": "stdout",
     "output_type": "stream",
     "text": [
      "124.0\n",
      "91.0\n",
      "92.0\n",
      "84.0\n",
      "113.0\n",
      "65.0\n",
      "126.0\n",
      "89.0\n",
      "105.0\n",
      "96.0\n",
      "122.0\n",
      "69.0\n",
      "95.0\n",
      "94.0\n",
      "117.0\n",
      "84.0\n",
      "97.0\n",
      "87.0\n",
      "101.0\n",
      "109.0\n",
      "83.0\n",
      "117.0\n",
      "114.0\n",
      "108.0\n",
      "114.0\n",
      "90.0\n",
      "98.0\n",
      "86.0\n",
      "96.0\n",
      "108.0\n",
      "90.0\n",
      "94.0\n",
      "90.0\n",
      "87.0\n",
      "90.0\n",
      "100.0\n",
      "83.0\n",
      "104.0\n",
      "125.0\n",
      "111.0\n",
      "97.0\n",
      "87.0\n",
      "89.0\n",
      "125.0\n",
      "101.0\n",
      "90.0\n",
      "103.0\n",
      "132.0\n",
      "102.0\n",
      "109.0\n",
      "105.0\n",
      "95.0\n",
      "83.0\n",
      "95.0\n",
      "97.0\n",
      "109.0\n",
      "113.0\n",
      "114.0\n",
      "104.0\n",
      "113.0\n",
      "89.0\n",
      "119.0\n",
      "108.0\n",
      "96.0\n",
      "107.0\n",
      "99.0\n",
      "117.0\n",
      "123.0\n",
      "133.0\n",
      "79.0\n",
      "78.0\n",
      "92.0\n",
      "102.0\n",
      "113.0\n",
      "105.0\n",
      "70.0\n",
      "95.0\n",
      "112.0\n",
      "103.0\n",
      "111.0\n",
      "97.0\n",
      "97.0\n",
      "103.0\n",
      "106.0\n",
      "103.0\n",
      "102.0\n",
      "90.0\n",
      "106.0\n",
      "102.0\n",
      "117.0\n",
      "118.0\n",
      "103.0\n",
      "94.0\n",
      "90.0\n",
      "106.0\n",
      "101.0\n",
      "95.0\n",
      "101.0\n",
      "91.0\n",
      "110.0\n"
     ]
    }
   ],
   "source": [
    "for each in IQ:\n",
    "    print(each)"
   ]
  },
  {
   "cell_type": "code",
   "execution_count": 23,
   "metadata": {},
   "outputs": [
    {
     "name": "stdout",
     "output_type": "stream",
     "text": [
      "IQ mądrej osoby wynosi 126.0\n",
      "IQ mądrej osoby wynosi 132.0\n",
      "IQ mądrej osoby wynosi 133.0\n"
     ]
    }
   ],
   "source": [
    "for each in IQ:\n",
    "    if each > 125:\n",
    "        print('IQ mądrej osoby wynosi {}'.format(each))"
   ]
  },
  {
   "cell_type": "code",
   "execution_count": 24,
   "metadata": {},
   "outputs": [
    {
     "data": {
      "text/plain": [
       "100"
      ]
     },
     "execution_count": 24,
     "metadata": {},
     "output_type": "execute_result"
    }
   ],
   "source": [
    "len(IQ)"
   ]
  },
  {
   "cell_type": "code",
   "execution_count": 25,
   "metadata": {},
   "outputs": [
    {
     "data": {
      "text/plain": [
       "[0,\n",
       " 1,\n",
       " 2,\n",
       " 3,\n",
       " 4,\n",
       " 5,\n",
       " 6,\n",
       " 7,\n",
       " 8,\n",
       " 9,\n",
       " 10,\n",
       " 11,\n",
       " 12,\n",
       " 13,\n",
       " 14,\n",
       " 15,\n",
       " 16,\n",
       " 17,\n",
       " 18,\n",
       " 19,\n",
       " 20,\n",
       " 21,\n",
       " 22,\n",
       " 23,\n",
       " 24,\n",
       " 25,\n",
       " 26,\n",
       " 27,\n",
       " 28,\n",
       " 29,\n",
       " 30,\n",
       " 31,\n",
       " 32,\n",
       " 33,\n",
       " 34,\n",
       " 35,\n",
       " 36,\n",
       " 37,\n",
       " 38,\n",
       " 39,\n",
       " 40,\n",
       " 41,\n",
       " 42,\n",
       " 43,\n",
       " 44,\n",
       " 45,\n",
       " 46,\n",
       " 47,\n",
       " 48,\n",
       " 49,\n",
       " 50,\n",
       " 51,\n",
       " 52,\n",
       " 53,\n",
       " 54,\n",
       " 55,\n",
       " 56,\n",
       " 57,\n",
       " 58,\n",
       " 59,\n",
       " 60,\n",
       " 61,\n",
       " 62,\n",
       " 63,\n",
       " 64,\n",
       " 65,\n",
       " 66,\n",
       " 67,\n",
       " 68,\n",
       " 69,\n",
       " 70,\n",
       " 71,\n",
       " 72,\n",
       " 73,\n",
       " 74,\n",
       " 75,\n",
       " 76,\n",
       " 77,\n",
       " 78,\n",
       " 79,\n",
       " 80,\n",
       " 81,\n",
       " 82,\n",
       " 83,\n",
       " 84,\n",
       " 85,\n",
       " 86,\n",
       " 87,\n",
       " 88,\n",
       " 89,\n",
       " 90,\n",
       " 91,\n",
       " 92,\n",
       " 93,\n",
       " 94,\n",
       " 95,\n",
       " 96,\n",
       " 97,\n",
       " 98,\n",
       " 99]"
      ]
     },
     "execution_count": 25,
     "metadata": {},
     "output_type": "execute_result"
    }
   ],
   "source": [
    "list(range(100))"
   ]
  },
  {
   "cell_type": "code",
   "execution_count": 26,
   "metadata": {},
   "outputs": [
    {
     "data": {
      "text/plain": [
       "[0,\n",
       " 1,\n",
       " 2,\n",
       " 3,\n",
       " 4,\n",
       " 5,\n",
       " 6,\n",
       " 7,\n",
       " 8,\n",
       " 9,\n",
       " 10,\n",
       " 11,\n",
       " 12,\n",
       " 13,\n",
       " 14,\n",
       " 15,\n",
       " 16,\n",
       " 17,\n",
       " 18,\n",
       " 19,\n",
       " 20,\n",
       " 21,\n",
       " 22,\n",
       " 23,\n",
       " 24,\n",
       " 25,\n",
       " 26,\n",
       " 27,\n",
       " 28,\n",
       " 29,\n",
       " 30,\n",
       " 31,\n",
       " 32,\n",
       " 33,\n",
       " 34,\n",
       " 35,\n",
       " 36,\n",
       " 37,\n",
       " 38,\n",
       " 39,\n",
       " 40,\n",
       " 41,\n",
       " 42,\n",
       " 43,\n",
       " 44,\n",
       " 45,\n",
       " 46,\n",
       " 47,\n",
       " 48,\n",
       " 49,\n",
       " 50,\n",
       " 51,\n",
       " 52,\n",
       " 53,\n",
       " 54,\n",
       " 55,\n",
       " 56,\n",
       " 57,\n",
       " 58,\n",
       " 59,\n",
       " 60,\n",
       " 61,\n",
       " 62,\n",
       " 63,\n",
       " 64,\n",
       " 65,\n",
       " 66,\n",
       " 67,\n",
       " 68,\n",
       " 69,\n",
       " 70,\n",
       " 71,\n",
       " 72,\n",
       " 73,\n",
       " 74,\n",
       " 75,\n",
       " 76,\n",
       " 77,\n",
       " 78,\n",
       " 79,\n",
       " 80,\n",
       " 81,\n",
       " 82,\n",
       " 83,\n",
       " 84,\n",
       " 85,\n",
       " 86,\n",
       " 87,\n",
       " 88,\n",
       " 89,\n",
       " 90,\n",
       " 91,\n",
       " 92,\n",
       " 93,\n",
       " 94,\n",
       " 95,\n",
       " 96,\n",
       " 97,\n",
       " 98,\n",
       " 99,\n",
       " 100]"
      ]
     },
     "execution_count": 26,
     "metadata": {},
     "output_type": "execute_result"
    }
   ],
   "source": [
    "list(range(101))"
   ]
  },
  {
   "cell_type": "code",
   "execution_count": 29,
   "metadata": {},
   "outputs": [
    {
     "name": "stdout",
     "output_type": "stream",
     "text": [
      "0\n",
      "1\n",
      "2\n",
      "3\n",
      "4\n",
      "5\n",
      "6\n",
      "7\n",
      "8\n",
      "9\n",
      "10\n",
      "11\n",
      "12\n",
      "13\n",
      "14\n",
      "15\n",
      "16\n",
      "17\n",
      "18\n",
      "19\n",
      "20\n",
      "21\n",
      "22\n",
      "23\n",
      "24\n",
      "25\n",
      "26\n",
      "27\n",
      "28\n",
      "29\n",
      "30\n",
      "31\n",
      "32\n",
      "33\n",
      "34\n",
      "35\n",
      "36\n",
      "37\n",
      "38\n",
      "39\n",
      "40\n",
      "41\n",
      "42\n",
      "43\n",
      "44\n",
      "45\n",
      "46\n",
      "47\n",
      "48\n",
      "49\n",
      "50\n",
      "51\n",
      "52\n",
      "53\n",
      "54\n",
      "55\n",
      "56\n",
      "57\n",
      "58\n",
      "59\n",
      "60\n",
      "61\n",
      "62\n",
      "63\n",
      "64\n",
      "65\n",
      "66\n",
      "67\n",
      "68\n",
      "69\n",
      "70\n",
      "71\n",
      "72\n",
      "73\n",
      "74\n",
      "75\n",
      "76\n",
      "77\n",
      "78\n",
      "79\n",
      "80\n",
      "81\n",
      "82\n",
      "83\n",
      "84\n",
      "85\n",
      "86\n",
      "87\n",
      "88\n",
      "89\n",
      "90\n",
      "91\n",
      "92\n",
      "93\n",
      "94\n",
      "95\n",
      "96\n",
      "97\n",
      "98\n",
      "99\n"
     ]
    }
   ],
   "source": [
    "for e in range(len(IQ)):\n",
    "    print(e)"
   ]
  },
  {
   "cell_type": "code",
   "execution_count": 31,
   "metadata": {},
   "outputs": [
    {
     "name": "stdout",
     "output_type": "stream",
     "text": [
      "IQ osoby o numerze indeksu 1 wynosi 91.0\n",
      "IQ osoby o numerze indeksu 2 wynosi 92.0\n",
      "IQ osoby o numerze indeksu 3 wynosi 84.0\n",
      "IQ osoby o numerze indeksu 5 wynosi 65.0\n",
      "IQ osoby o numerze indeksu 7 wynosi 89.0\n",
      "IQ osoby o numerze indeksu 9 wynosi 96.0\n",
      "IQ osoby o numerze indeksu 11 wynosi 69.0\n",
      "IQ osoby o numerze indeksu 12 wynosi 95.0\n",
      "IQ osoby o numerze indeksu 13 wynosi 94.0\n",
      "IQ osoby o numerze indeksu 15 wynosi 84.0\n",
      "IQ osoby o numerze indeksu 16 wynosi 97.0\n",
      "IQ osoby o numerze indeksu 17 wynosi 87.0\n",
      "IQ osoby o numerze indeksu 20 wynosi 83.0\n",
      "IQ osoby o numerze indeksu 25 wynosi 90.0\n",
      "IQ osoby o numerze indeksu 26 wynosi 98.0\n",
      "IQ osoby o numerze indeksu 27 wynosi 86.0\n",
      "IQ osoby o numerze indeksu 28 wynosi 96.0\n",
      "IQ osoby o numerze indeksu 30 wynosi 90.0\n",
      "IQ osoby o numerze indeksu 31 wynosi 94.0\n",
      "IQ osoby o numerze indeksu 32 wynosi 90.0\n",
      "IQ osoby o numerze indeksu 33 wynosi 87.0\n",
      "IQ osoby o numerze indeksu 34 wynosi 90.0\n",
      "IQ osoby o numerze indeksu 36 wynosi 83.0\n",
      "IQ osoby o numerze indeksu 40 wynosi 97.0\n",
      "IQ osoby o numerze indeksu 41 wynosi 87.0\n",
      "IQ osoby o numerze indeksu 42 wynosi 89.0\n",
      "IQ osoby o numerze indeksu 45 wynosi 90.0\n",
      "IQ osoby o numerze indeksu 51 wynosi 95.0\n",
      "IQ osoby o numerze indeksu 52 wynosi 83.0\n",
      "IQ osoby o numerze indeksu 53 wynosi 95.0\n",
      "IQ osoby o numerze indeksu 54 wynosi 97.0\n",
      "IQ osoby o numerze indeksu 60 wynosi 89.0\n",
      "IQ osoby o numerze indeksu 63 wynosi 96.0\n",
      "IQ osoby o numerze indeksu 65 wynosi 99.0\n",
      "IQ osoby o numerze indeksu 69 wynosi 79.0\n",
      "IQ osoby o numerze indeksu 70 wynosi 78.0\n",
      "IQ osoby o numerze indeksu 71 wynosi 92.0\n",
      "IQ osoby o numerze indeksu 75 wynosi 70.0\n",
      "IQ osoby o numerze indeksu 76 wynosi 95.0\n",
      "IQ osoby o numerze indeksu 80 wynosi 97.0\n",
      "IQ osoby o numerze indeksu 81 wynosi 97.0\n",
      "IQ osoby o numerze indeksu 86 wynosi 90.0\n",
      "IQ osoby o numerze indeksu 92 wynosi 94.0\n",
      "IQ osoby o numerze indeksu 93 wynosi 90.0\n",
      "IQ osoby o numerze indeksu 96 wynosi 95.0\n",
      "IQ osoby o numerze indeksu 98 wynosi 91.0\n"
     ]
    }
   ],
   "source": [
    "for e in range(len(IQ)):\n",
    "    if IQ[e]<100:\n",
    "        print('IQ osoby o numerze indeksu {} wynosi {}'.format(e, IQ[e]))"
   ]
  },
  {
   "cell_type": "code",
   "execution_count": 32,
   "metadata": {},
   "outputs": [
    {
     "name": "stdout",
     "output_type": "stream",
     "text": [
      "Mamy do czynienia z geniuszem: osoba 0 ma IQ równe 124.0\n",
      "Mamy do czynienia z geniuszem: osoba 4 ma IQ równe 113.0\n",
      "Mamy do czynienia z geniuszem: osoba 6 ma IQ równe 126.0\n",
      "Mamy do czynienia z geniuszem: osoba 10 ma IQ równe 122.0\n",
      "Mamy do czynienia z geniuszem: osoba 14 ma IQ równe 117.0\n",
      "Mamy do czynienia z geniuszem: osoba 21 ma IQ równe 117.0\n",
      "Mamy do czynienia z geniuszem: osoba 22 ma IQ równe 114.0\n",
      "Mamy do czynienia z geniuszem: osoba 24 ma IQ równe 114.0\n",
      "Mamy do czynienia z geniuszem: osoba 38 ma IQ równe 125.0\n",
      "Mamy do czynienia z geniuszem: osoba 39 ma IQ równe 111.0\n",
      "Mamy do czynienia z geniuszem: osoba 43 ma IQ równe 125.0\n",
      "Mamy do czynienia z geniuszem: osoba 47 ma IQ równe 132.0\n",
      "Mamy do czynienia z geniuszem: osoba 56 ma IQ równe 113.0\n",
      "Mamy do czynienia z geniuszem: osoba 57 ma IQ równe 114.0\n",
      "Mamy do czynienia z geniuszem: osoba 59 ma IQ równe 113.0\n",
      "Mamy do czynienia z geniuszem: osoba 61 ma IQ równe 119.0\n",
      "Mamy do czynienia z geniuszem: osoba 66 ma IQ równe 117.0\n",
      "Mamy do czynienia z geniuszem: osoba 67 ma IQ równe 123.0\n",
      "Mamy do czynienia z geniuszem: osoba 68 ma IQ równe 133.0\n",
      "Mamy do czynienia z geniuszem: osoba 73 ma IQ równe 113.0\n",
      "Mamy do czynienia z geniuszem: osoba 77 ma IQ równe 112.0\n",
      "Mamy do czynienia z geniuszem: osoba 79 ma IQ równe 111.0\n",
      "Mamy do czynienia z geniuszem: osoba 89 ma IQ równe 117.0\n",
      "Mamy do czynienia z geniuszem: osoba 90 ma IQ równe 118.0\n"
     ]
    }
   ],
   "source": [
    "for index, each in enumerate(IQ):\n",
    "    if each > 110:\n",
    "        print('Mamy do czynienia z geniuszem: osoba {} ma IQ równe {}'.format(index, each))"
   ]
  },
  {
   "cell_type": "code",
   "execution_count": 34,
   "metadata": {},
   "outputs": [
    {
     "data": {
      "text/plain": [
       "[(0, 124.0),\n",
       " (1, 91.0),\n",
       " (2, 92.0),\n",
       " (3, 84.0),\n",
       " (4, 113.0),\n",
       " (5, 65.0),\n",
       " (6, 126.0),\n",
       " (7, 89.0),\n",
       " (8, 105.0),\n",
       " (9, 96.0),\n",
       " (10, 122.0),\n",
       " (11, 69.0),\n",
       " (12, 95.0),\n",
       " (13, 94.0),\n",
       " (14, 117.0),\n",
       " (15, 84.0),\n",
       " (16, 97.0),\n",
       " (17, 87.0),\n",
       " (18, 101.0),\n",
       " (19, 109.0),\n",
       " (20, 83.0),\n",
       " (21, 117.0),\n",
       " (22, 114.0),\n",
       " (23, 108.0),\n",
       " (24, 114.0),\n",
       " (25, 90.0),\n",
       " (26, 98.0),\n",
       " (27, 86.0),\n",
       " (28, 96.0),\n",
       " (29, 108.0),\n",
       " (30, 90.0),\n",
       " (31, 94.0),\n",
       " (32, 90.0),\n",
       " (33, 87.0),\n",
       " (34, 90.0),\n",
       " (35, 100.0),\n",
       " (36, 83.0),\n",
       " (37, 104.0),\n",
       " (38, 125.0),\n",
       " (39, 111.0),\n",
       " (40, 97.0),\n",
       " (41, 87.0),\n",
       " (42, 89.0),\n",
       " (43, 125.0),\n",
       " (44, 101.0),\n",
       " (45, 90.0),\n",
       " (46, 103.0),\n",
       " (47, 132.0),\n",
       " (48, 102.0),\n",
       " (49, 109.0),\n",
       " (50, 105.0),\n",
       " (51, 95.0),\n",
       " (52, 83.0),\n",
       " (53, 95.0),\n",
       " (54, 97.0),\n",
       " (55, 109.0),\n",
       " (56, 113.0),\n",
       " (57, 114.0),\n",
       " (58, 104.0),\n",
       " (59, 113.0),\n",
       " (60, 89.0),\n",
       " (61, 119.0),\n",
       " (62, 108.0),\n",
       " (63, 96.0),\n",
       " (64, 107.0),\n",
       " (65, 99.0),\n",
       " (66, 117.0),\n",
       " (67, 123.0),\n",
       " (68, 133.0),\n",
       " (69, 79.0),\n",
       " (70, 78.0),\n",
       " (71, 92.0),\n",
       " (72, 102.0),\n",
       " (73, 113.0),\n",
       " (74, 105.0),\n",
       " (75, 70.0),\n",
       " (76, 95.0),\n",
       " (77, 112.0),\n",
       " (78, 103.0),\n",
       " (79, 111.0),\n",
       " (80, 97.0),\n",
       " (81, 97.0),\n",
       " (82, 103.0),\n",
       " (83, 106.0),\n",
       " (84, 103.0),\n",
       " (85, 102.0),\n",
       " (86, 90.0),\n",
       " (87, 106.0),\n",
       " (88, 102.0),\n",
       " (89, 117.0),\n",
       " (90, 118.0),\n",
       " (91, 103.0),\n",
       " (92, 94.0),\n",
       " (93, 90.0),\n",
       " (94, 106.0),\n",
       " (95, 101.0),\n",
       " (96, 95.0),\n",
       " (97, 101.0),\n",
       " (98, 91.0),\n",
       " (99, 110.0)]"
      ]
     },
     "execution_count": 34,
     "metadata": {},
     "output_type": "execute_result"
    }
   ],
   "source": [
    "list(enumerate(IQ))"
   ]
  },
  {
   "cell_type": "code",
   "execution_count": 35,
   "metadata": {},
   "outputs": [
    {
     "data": {
      "text/plain": [
       "(0, 124.0)"
      ]
     },
     "execution_count": 35,
     "metadata": {},
     "output_type": "execute_result"
    }
   ],
   "source": [
    "list(enumerate(IQ))[0]"
   ]
  },
  {
   "cell_type": "code",
   "execution_count": null,
   "metadata": {
    "collapsed": true
   },
   "outputs": [],
   "source": []
  }
 ],
 "metadata": {
  "kernelspec": {
   "display_name": "Python 3",
   "language": "python",
   "name": "python3"
  },
  "language_info": {
   "codemirror_mode": {
    "name": "ipython",
    "version": 3
   },
   "file_extension": ".py",
   "mimetype": "text/x-python",
   "name": "python",
   "nbconvert_exporter": "python",
   "pygments_lexer": "ipython3",
   "version": "3.6.3"
  }
 },
 "nbformat": 4,
 "nbformat_minor": 2
}
