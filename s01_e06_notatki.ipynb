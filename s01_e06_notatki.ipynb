{
 "cells": [
  {
   "cell_type": "code",
   "execution_count": 1,
   "metadata": {
    "collapsed": true
   },
   "outputs": [],
   "source": [
    "import numpy as np"
   ]
  },
  {
   "cell_type": "code",
   "execution_count": null,
   "metadata": {
    "collapsed": true
   },
   "outputs": [],
   "source": [
    "def NAZWA_FUNKCJI(argument1, a2, a3, ..., an):\n",
    "    bla bla bla\n",
    "    return NAZWA_ZMIENNEJ"
   ]
  },
  {
   "cell_type": "code",
   "execution_count": 2,
   "metadata": {
    "collapsed": true
   },
   "outputs": [],
   "source": [
    "def sumuj(x,y):\n",
    "    suma = x + y\n",
    "    return suma"
   ]
  },
  {
   "cell_type": "code",
   "execution_count": 3,
   "metadata": {},
   "outputs": [
    {
     "data": {
      "text/plain": [
       "12"
      ]
     },
     "execution_count": 3,
     "metadata": {},
     "output_type": "execute_result"
    }
   ],
   "source": [
    "sumuj(5,7)"
   ]
  },
  {
   "cell_type": "code",
   "execution_count": 4,
   "metadata": {},
   "outputs": [
    {
     "data": {
      "text/plain": [
       "50"
      ]
     },
     "execution_count": 4,
     "metadata": {},
     "output_type": "execute_result"
    }
   ],
   "source": [
    "wynik = sumuj(10,40)\n",
    "wynik"
   ]
  },
  {
   "cell_type": "code",
   "execution_count": 5,
   "metadata": {},
   "outputs": [
    {
     "data": {
      "text/plain": [
       "<function __main__.sumuj>"
      ]
     },
     "execution_count": 5,
     "metadata": {},
     "output_type": "execute_result"
    }
   ],
   "source": [
    "sumuj"
   ]
  },
  {
   "cell_type": "code",
   "execution_count": 6,
   "metadata": {},
   "outputs": [
    {
     "ename": "TypeError",
     "evalue": "sumuj() missing 2 required positional arguments: 'x' and 'y'",
     "output_type": "error",
     "traceback": [
      "\u001b[1;31m---------------------------------------------------------------------------\u001b[0m",
      "\u001b[1;31mTypeError\u001b[0m                                 Traceback (most recent call last)",
      "\u001b[1;32m<ipython-input-6-aa01be715aa5>\u001b[0m in \u001b[0;36m<module>\u001b[1;34m()\u001b[0m\n\u001b[1;32m----> 1\u001b[1;33m \u001b[0msumuj\u001b[0m\u001b[1;33m(\u001b[0m\u001b[1;33m)\u001b[0m\u001b[1;33m\u001b[0m\u001b[0m\n\u001b[0m",
      "\u001b[1;31mTypeError\u001b[0m: sumuj() missing 2 required positional arguments: 'x' and 'y'"
     ]
    }
   ],
   "source": [
    "sumuj()"
   ]
  },
  {
   "cell_type": "code",
   "execution_count": 24,
   "metadata": {},
   "outputs": [],
   "source": [
    "def sumuj(x=5,y=100):\n",
    "    suma = x+ y\n",
    "    return suma"
   ]
  },
  {
   "cell_type": "code",
   "execution_count": 12,
   "metadata": {},
   "outputs": [
    {
     "data": {
      "text/plain": [
       "100"
      ]
     },
     "execution_count": 12,
     "metadata": {},
     "output_type": "execute_result"
    }
   ],
   "source": [
    "sumuj(x=1000)"
   ]
  },
  {
   "cell_type": "code",
   "execution_count": 9,
   "metadata": {
    "collapsed": true
   },
   "outputs": [],
   "source": [
    "def sumuj_odejmuj(x,y):\n",
    "    s = x + y\n",
    "    o = x - y\n",
    "    return s, o"
   ]
  },
  {
   "cell_type": "code",
   "execution_count": 10,
   "metadata": {},
   "outputs": [
    {
     "data": {
      "text/plain": [
       "(13, 7)"
      ]
     },
     "execution_count": 10,
     "metadata": {},
     "output_type": "execute_result"
    }
   ],
   "source": [
    "sumuj_odejmuj(10,3)"
   ]
  },
  {
   "cell_type": "code",
   "execution_count": 13,
   "metadata": {
    "collapsed": true
   },
   "outputs": [],
   "source": [
    "wynik2 = sumuj_odejmuj(10, 3) # (...) o tuple"
   ]
  },
  {
   "cell_type": "code",
   "execution_count": 17,
   "metadata": {},
   "outputs": [],
   "source": [
    "suma, odejmowanie = sumuj_odejmuj(10,3)"
   ]
  },
  {
   "cell_type": "code",
   "execution_count": 18,
   "metadata": {},
   "outputs": [
    {
     "data": {
      "text/plain": [
       "13"
      ]
     },
     "execution_count": 18,
     "metadata": {},
     "output_type": "execute_result"
    }
   ],
   "source": [
    "suma"
   ]
  },
  {
   "cell_type": "code",
   "execution_count": 19,
   "metadata": {},
   "outputs": [
    {
     "data": {
      "text/plain": [
       "7"
      ]
     },
     "execution_count": 19,
     "metadata": {},
     "output_type": "execute_result"
    }
   ],
   "source": [
    "odejmowanie"
   ]
  },
  {
   "cell_type": "code",
   "execution_count": 20,
   "metadata": {
    "collapsed": true
   },
   "outputs": [],
   "source": [
    "#losujemy dane\n",
    "seed = np.random.RandomState(1)"
   ]
  },
  {
   "cell_type": "code",
   "execution_count": 21,
   "metadata": {},
   "outputs": [
    {
     "data": {
      "text/plain": [
       "array([ 1.62434536, -0.61175641, -0.52817175, -1.07296862,  0.86540763,\n",
       "       -2.3015387 ,  1.74481176, -0.7612069 ,  0.3190391 , -0.24937038,\n",
       "        1.46210794, -2.06014071, -0.3224172 , -0.38405435,  1.13376944,\n",
       "       -1.09989127, -0.17242821, -0.87785842,  0.04221375,  0.58281521,\n",
       "       -1.10061918,  1.14472371,  0.90159072,  0.50249434,  0.90085595,\n",
       "       -0.68372786, -0.12289023, -0.93576943, -0.26788808,  0.53035547,\n",
       "       -0.69166075, -0.39675353, -0.6871727 , -0.84520564, -0.67124613,\n",
       "       -0.0126646 , -1.11731035,  0.2344157 ,  1.65980218,  0.74204416,\n",
       "       -0.19183555, -0.88762896, -0.74715829,  1.6924546 ,  0.05080775,\n",
       "       -0.63699565,  0.19091548,  2.10025514,  0.12015895,  0.61720311,\n",
       "        0.30017032, -0.35224985, -1.1425182 , -0.34934272, -0.20889423,\n",
       "        0.58662319,  0.83898341,  0.93110208,  0.28558733,  0.88514116,\n",
       "       -0.75439794,  1.25286816,  0.51292982, -0.29809284,  0.48851815,\n",
       "       -0.07557171,  1.13162939,  1.51981682,  2.18557541, -1.39649634,\n",
       "       -1.44411381, -0.50446586,  0.16003707,  0.87616892,  0.31563495,\n",
       "       -2.02220122, -0.30620401,  0.82797464,  0.23009474,  0.76201118,\n",
       "       -0.22232814, -0.20075807,  0.18656139,  0.41005165,  0.19829972,\n",
       "        0.11900865, -0.67066229,  0.37756379,  0.12182127,  1.12948391,\n",
       "        1.19891788,  0.18515642, -0.37528495, -0.63873041,  0.42349435,\n",
       "        0.07734007, -0.34385368,  0.04359686, -0.62000084,  0.69803203])"
      ]
     },
     "execution_count": 21,
     "metadata": {},
     "output_type": "execute_result"
    }
   ],
   "source": [
    "l = seed.normal(size=100)\n",
    "l"
   ]
  },
  {
   "cell_type": "code",
   "execution_count": 36,
   "metadata": {
    "collapsed": true
   },
   "outputs": [],
   "source": [
    "# x - M = Z * SD\n",
    "# x = Z * SD + M\n",
    "\n",
    "def odstandaryzowywanie(Z, SD, M):\n",
    "    x = Z*SD + M\n",
    "    decimals = 0\n",
    "    return x"
   ]
  },
  {
   "cell_type": "code",
   "execution_count": 42,
   "metadata": {
    "collapsed": true
   },
   "outputs": [],
   "source": [
    "    SD = 15\n",
    "    M = 100\n",
    "    Z = l"
   ]
  },
  {
   "cell_type": "code",
   "execution_count": 43,
   "metadata": {},
   "outputs": [
    {
     "data": {
      "text/plain": [
       "array([ 124.36518045,   90.8236538 ,   92.07742372,   83.90547067,\n",
       "        112.98111444,   65.47691955,  126.17217646,   88.58189649,\n",
       "        104.78558644,   96.25944437,  121.93161906,   69.09788936,\n",
       "         95.16374194,   94.23918468,  117.00654164,   83.50163099,\n",
       "         97.41357689,   86.83212373,  100.6332062 ,  108.74222821,\n",
       "         83.49071234,  117.17085565,  113.52386081,  107.53741508,\n",
       "        113.51283924,   89.74408211,   98.15664662,   85.96345849,\n",
       "         95.98167881,  107.955332  ,   89.62508872,   94.0486971 ,\n",
       "         89.6924095 ,   87.32191538,   89.93130804,   99.81003102,\n",
       "         83.24034477,  103.51623547,  124.89703266,  111.13066241,\n",
       "         97.12246671,   86.68556554,   88.79262559,  125.38681902,\n",
       "        100.76211632,   90.4450653 ,  102.86373227,  131.50382705,\n",
       "        101.80238429,  109.25804665,  104.5025548 ,   94.7162523 ,\n",
       "         82.86222703,   94.75985916,   96.8665865 ,  108.79934787,\n",
       "        112.58475121,  113.96653122,  104.28380988,  113.27711746,\n",
       "         88.68403089,  118.79302233,  107.69394731,   95.52860747,\n",
       "        107.3277722 ,   98.8664243 ,  116.97444081,  122.79725225,\n",
       "        132.7836311 ,   79.05255497,   78.33829292,   92.43301206,\n",
       "        102.40055604,  113.14253382,  104.73452421,   69.66698176,\n",
       "         95.40693981,  112.41961964,  103.45142103,  111.4301677 ,\n",
       "         96.66507786,   96.98862897,  102.79842086,  106.15077471,\n",
       "        102.9744958 ,  101.78512969,   89.94006571,  105.66345679,\n",
       "        101.82731906,  116.94225862,  117.9837682 ,  102.77734626,\n",
       "         94.37072575,   90.41904389,  106.35241531,  101.16010103,\n",
       "         94.84219487,  100.65395285,   90.69998734,  110.47048051])"
      ]
     },
     "execution_count": 43,
     "metadata": {},
     "output_type": "execute_result"
    }
   ],
   "source": [
    "#odstandaryzowywanie(Z, SD, M)\n",
    "\n",
    "odstandaryzowywanie (l, 15, 100)"
   ]
  },
  {
   "cell_type": "code",
   "execution_count": 49,
   "metadata": {
    "collapsed": true
   },
   "outputs": [],
   "source": [
    "def odstandaryzowywanie(Z, SD, M, decimals=0):\n",
    "    x = Z*SD + M\n",
    "    decimals = 0\n",
    "    return x"
   ]
  },
  {
   "cell_type": "code",
   "execution_count": 50,
   "metadata": {
    "collapsed": true
   },
   "outputs": [],
   "source": [
    "def odstandaryzowywanie(Z, SD, M, decimals=0):\n",
    "    # trzeba się upewnić czy numpy wczytany, więc na wszelki wypadek\n",
    "    import numpy as np\n",
    "    x = np.round(Z*SD + M, decimals = decimals) # bo domyślnie decimals okazuje sie być 0\n",
    "    return x"
   ]
  },
  {
   "cell_type": "code",
   "execution_count": 52,
   "metadata": {},
   "outputs": [
    {
     "data": {
      "text/plain": [
       "array([ 124.,   91.,   92.,   84.,  113.,   65.,  126.,   89.,  105.,\n",
       "         96.,  122.,   69.,   95.,   94.,  117.,   84.,   97.,   87.,\n",
       "        101.,  109.,   83.,  117.,  114.,  108.,  114.,   90.,   98.,\n",
       "         86.,   96.,  108.,   90.,   94.,   90.,   87.,   90.,  100.,\n",
       "         83.,  104.,  125.,  111.,   97.,   87.,   89.,  125.,  101.,\n",
       "         90.,  103.,  132.,  102.,  109.,  105.,   95.,   83.,   95.,\n",
       "         97.,  109.,  113.,  114.,  104.,  113.,   89.,  119.,  108.,\n",
       "         96.,  107.,   99.,  117.,  123.,  133.,   79.,   78.,   92.,\n",
       "        102.,  113.,  105.,   70.,   95.,  112.,  103.,  111.,   97.,\n",
       "         97.,  103.,  106.,  103.,  102.,   90.,  106.,  102.,  117.,\n",
       "        118.,  103.,   94.,   90.,  106.,  101.,   95.,  101.,   91.,  110.])"
      ]
     },
     "execution_count": 52,
     "metadata": {},
     "output_type": "execute_result"
    }
   ],
   "source": [
    "odstandaryzowywanie(Z=l, M=100, SD=15)\n",
    "# można zapisać też tak x(l, 100, 15)"
   ]
  },
  {
   "cell_type": "code",
   "execution_count": 53,
   "metadata": {},
   "outputs": [
    {
     "data": {
      "text/plain": [
       "array([ 124.37,   90.82,   92.08,   83.91,  112.98,   65.48,  126.17,\n",
       "         88.58,  104.79,   96.26,  121.93,   69.1 ,   95.16,   94.24,\n",
       "        117.01,   83.5 ,   97.41,   86.83,  100.63,  108.74,   83.49,\n",
       "        117.17,  113.52,  107.54,  113.51,   89.74,   98.16,   85.96,\n",
       "         95.98,  107.96,   89.63,   94.05,   89.69,   87.32,   89.93,\n",
       "         99.81,   83.24,  103.52,  124.9 ,  111.13,   97.12,   86.69,\n",
       "         88.79,  125.39,  100.76,   90.45,  102.86,  131.5 ,  101.8 ,\n",
       "        109.26,  104.5 ,   94.72,   82.86,   94.76,   96.87,  108.8 ,\n",
       "        112.58,  113.97,  104.28,  113.28,   88.68,  118.79,  107.69,\n",
       "         95.53,  107.33,   98.87,  116.97,  122.8 ,  132.78,   79.05,\n",
       "         78.34,   92.43,  102.4 ,  113.14,  104.73,   69.67,   95.41,\n",
       "        112.42,  103.45,  111.43,   96.67,   96.99,  102.8 ,  106.15,\n",
       "        102.97,  101.79,   89.94,  105.66,  101.83,  116.94,  117.98,\n",
       "        102.78,   94.37,   90.42,  106.35,  101.16,   94.84,  100.65,\n",
       "         90.7 ,  110.47])"
      ]
     },
     "execution_count": 53,
     "metadata": {},
     "output_type": "execute_result"
    }
   ],
   "source": [
    "odstandaryzowywanie(Z=l, M=100, SD=15, decimals = 2)"
   ]
  },
  {
   "cell_type": "code",
   "execution_count": null,
   "metadata": {
    "collapsed": true
   },
   "outputs": [],
   "source": []
  }
 ],
 "metadata": {
  "kernelspec": {
   "display_name": "Python 3",
   "language": "python",
   "name": "python3"
  },
  "language_info": {
   "codemirror_mode": {
    "name": "ipython",
    "version": 3
   },
   "file_extension": ".py",
   "mimetype": "text/x-python",
   "name": "python",
   "nbconvert_exporter": "python",
   "pygments_lexer": "ipython3",
   "version": "3.6.3"
  }
 },
 "nbformat": 4,
 "nbformat_minor": 2
}
