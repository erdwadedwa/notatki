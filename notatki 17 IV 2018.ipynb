{
 "cells": [
  {
   "cell_type": "code",
   "execution_count": 1,
   "metadata": {},
   "outputs": [],
   "source": [
    "import numpy as np"
   ]
  },
  {
   "cell_type": "code",
   "execution_count": 2,
   "metadata": {},
   "outputs": [],
   "source": [
    "los = np.random.RandomState(100)"
   ]
  },
  {
   "cell_type": "code",
   "execution_count": 3,
   "metadata": {},
   "outputs": [],
   "source": [
    "liczby = los.randint(-100,100,1000000)"
   ]
  },
  {
   "cell_type": "code",
   "execution_count": 4,
   "metadata": {},
   "outputs": [
    {
     "data": {
      "text/plain": [
       "array([-92, -76, -33, ...,  90, -61,  61])"
      ]
     },
     "execution_count": 4,
     "metadata": {},
     "output_type": "execute_result"
    }
   ],
   "source": [
    "liczby"
   ]
  },
  {
   "cell_type": "markdown",
   "metadata": {},
   "source": [
    "###### Z1: Stwórz wektor wartości powiększony o 20 - używamy list comprehensions!"
   ]
  },
  {
   "cell_type": "code",
   "execution_count": 6,
   "metadata": {},
   "outputs": [
    {
     "data": {
      "text/plain": [
       "array([-72, -56, -13, ..., 110, -41,  81])"
      ]
     },
     "execution_count": 6,
     "metadata": {},
     "output_type": "execute_result"
    }
   ],
   "source": [
    "np.array([each + 20 for each in liczby])"
   ]
  },
  {
   "cell_type": "code",
   "execution_count": 25,
   "metadata": {},
   "outputs": [
    {
     "data": {
      "text/plain": [
       "array([-72, -56, -13, ..., 110, -41,  81])"
      ]
     },
     "execution_count": 25,
     "metadata": {},
     "output_type": "execute_result"
    }
   ],
   "source": [
    "\n",
    "lista = []\n",
    "for each in liczby:\n",
    "    lista.append(each+20)\n",
    "lista = np.array(lista)\n",
    "    \n",
    "lista"
   ]
  },
  {
   "cell_type": "markdown",
   "metadata": {},
   "source": [
    "###### Z2: Wektor takich wartości, które są większe od zera"
   ]
  },
  {
   "cell_type": "code",
   "execution_count": 24,
   "metadata": {},
   "outputs": [
    {
     "data": {
      "text/plain": [
       "array([ 3, 76, 38, ..., 54, 90, 61])"
      ]
     },
     "execution_count": 24,
     "metadata": {},
     "output_type": "execute_result"
    }
   ],
   "source": [
    "np.array([each for each in liczby if each > 0])"
   ]
  },
  {
   "cell_type": "code",
   "execution_count": 20,
   "metadata": {},
   "outputs": [],
   "source": [
    "lista = []\n",
    "for each in liczby:\n",
    "    if each >0:\n",
    "        lista.append(each)\n",
    "lista = np.array(lista)"
   ]
  },
  {
   "cell_type": "code",
   "execution_count": 21,
   "metadata": {},
   "outputs": [
    {
     "data": {
      "text/plain": [
       "array([ 3, 76, 38, ..., 54, 90, 61])"
      ]
     },
     "execution_count": 21,
     "metadata": {},
     "output_type": "execute_result"
    }
   ],
   "source": [
    "lista"
   ]
  },
  {
   "cell_type": "markdown",
   "metadata": {},
   "source": [
    "###### Z3: Wektor wartości podniesionych do kwadratu, ale tylko jeśli oryginalna wartość była większa od 50"
   ]
  },
  {
   "cell_type": "code",
   "execution_count": 18,
   "metadata": {},
   "outputs": [
    {
     "data": {
      "text/plain": [
       "array([5776, 6400, 3025, ..., 2916, 8100, 3721])"
      ]
     },
     "execution_count": 18,
     "metadata": {},
     "output_type": "execute_result"
    }
   ],
   "source": [
    "lista = []\n",
    "for each in liczby:\n",
    "    if each > 50:\n",
    "        lista.append(each*each)\n",
    "lista = np.array(lista)\n",
    "\n",
    "lista"
   ]
  },
  {
   "cell_type": "code",
   "execution_count": 14,
   "metadata": {},
   "outputs": [
    {
     "data": {
      "text/plain": [
       "array([5776, 6400, 3025, ..., 2916, 8100, 3721])"
      ]
     },
     "execution_count": 14,
     "metadata": {},
     "output_type": "execute_result"
    }
   ],
   "source": [
    "np.array([each*each for each in liczby if each > 50])"
   ]
  },
  {
   "cell_type": "markdown",
   "metadata": {},
   "source": [
    "###### Z4: Wektor wartości, w którym:\n",
    "1. wartości większe od zera są podniesione do kwadratu\n",
    "2. pozostałe wartości pozostają niezmienione\n",
    "3. zapisz do zmiennej lc"
   ]
  },
  {
   "cell_type": "code",
   "execution_count": 22,
   "metadata": {},
   "outputs": [
    {
     "data": {
      "text/plain": [
       "array([ -92,  -76,  -33, ..., 8100,  -61, 3721])"
      ]
     },
     "execution_count": 22,
     "metadata": {},
     "output_type": "execute_result"
    }
   ],
   "source": [
    "lista = []\n",
    "for each in liczby:\n",
    "    if each >0:\n",
    "        lista.append(each**2)\n",
    "    else:\n",
    "        lista.append(each)\n",
    "\n",
    "np.array(lista)"
   ]
  },
  {
   "cell_type": "code",
   "execution_count": 27,
   "metadata": {},
   "outputs": [],
   "source": [
    "Ic = np.array([each **2 if each > 0 else each for each in liczby ])"
   ]
  },
  {
   "cell_type": "markdown",
   "metadata": {},
   "source": [
    "###### Z5: Wektor wartości parzystych z wektora lc"
   ]
  },
  {
   "cell_type": "code",
   "execution_count": 28,
   "metadata": {},
   "outputs": [
    {
     "data": {
      "text/plain": [
       "array([ -92,  -76,  -33, ..., 8100,  -61, 3721])"
      ]
     },
     "execution_count": 28,
     "metadata": {},
     "output_type": "execute_result"
    }
   ],
   "source": [
    "Ic"
   ]
  },
  {
   "cell_type": "code",
   "execution_count": 30,
   "metadata": {},
   "outputs": [
    {
     "data": {
      "text/plain": [
       "array([-92, -76,  76, ...,  56,  54,  90])"
      ]
     },
     "execution_count": 30,
     "metadata": {},
     "output_type": "execute_result"
    }
   ],
   "source": [
    "np.array([each for each in liczby if each % 2 == 0])"
   ]
  },
  {
   "cell_type": "markdown",
   "metadata": {},
   "source": [
    "###### Z6: Wektor wartości nieparzystych z wektora lc"
   ]
  },
  {
   "cell_type": "code",
   "execution_count": 31,
   "metadata": {},
   "outputs": [
    {
     "data": {
      "text/plain": [
       "array([-33,   3, -13, ...,  -9, -61,  61])"
      ]
     },
     "execution_count": 31,
     "metadata": {},
     "output_type": "execute_result"
    }
   ],
   "source": [
    "np.array([each for each in liczby if each % 2 != 0])"
   ]
  },
  {
   "cell_type": "markdown",
   "metadata": {},
   "source": [
    "###### Z7: Słownik, w którym hasłem jest liczba a znaczeniem informacja czy dana liczba jest parzysta czy nieparzysta"
   ]
  },
  {
   "cell_type": "code",
   "execution_count": 32,
   "metadata": {},
   "outputs": [
    {
     "data": {
      "text/plain": [
       "{-100: 'parzysta',\n",
       " -99: 'nieparzysta',\n",
       " -98: 'parzysta',\n",
       " -97: 'nieparzysta',\n",
       " -96: 'parzysta',\n",
       " -95: 'nieparzysta',\n",
       " -94: 'parzysta',\n",
       " -93: 'nieparzysta',\n",
       " -92: 'parzysta',\n",
       " -91: 'nieparzysta',\n",
       " -90: 'parzysta',\n",
       " -89: 'nieparzysta',\n",
       " -88: 'parzysta',\n",
       " -87: 'nieparzysta',\n",
       " -86: 'parzysta',\n",
       " -85: 'nieparzysta',\n",
       " -84: 'parzysta',\n",
       " -83: 'nieparzysta',\n",
       " -82: 'parzysta',\n",
       " -81: 'nieparzysta',\n",
       " -80: 'parzysta',\n",
       " -79: 'nieparzysta',\n",
       " -78: 'parzysta',\n",
       " -77: 'nieparzysta',\n",
       " -76: 'parzysta',\n",
       " -75: 'nieparzysta',\n",
       " -74: 'parzysta',\n",
       " -73: 'nieparzysta',\n",
       " -72: 'parzysta',\n",
       " -71: 'nieparzysta',\n",
       " -70: 'parzysta',\n",
       " -69: 'nieparzysta',\n",
       " -68: 'parzysta',\n",
       " -67: 'nieparzysta',\n",
       " -66: 'parzysta',\n",
       " -65: 'nieparzysta',\n",
       " -64: 'parzysta',\n",
       " -63: 'nieparzysta',\n",
       " -62: 'parzysta',\n",
       " -61: 'nieparzysta',\n",
       " -60: 'parzysta',\n",
       " -59: 'nieparzysta',\n",
       " -58: 'parzysta',\n",
       " -57: 'nieparzysta',\n",
       " -56: 'parzysta',\n",
       " -55: 'nieparzysta',\n",
       " -54: 'parzysta',\n",
       " -53: 'nieparzysta',\n",
       " -52: 'parzysta',\n",
       " -51: 'nieparzysta',\n",
       " -50: 'parzysta',\n",
       " -49: 'nieparzysta',\n",
       " -48: 'parzysta',\n",
       " -47: 'nieparzysta',\n",
       " -46: 'parzysta',\n",
       " -45: 'nieparzysta',\n",
       " -44: 'parzysta',\n",
       " -43: 'nieparzysta',\n",
       " -42: 'parzysta',\n",
       " -41: 'nieparzysta',\n",
       " -40: 'parzysta',\n",
       " -39: 'nieparzysta',\n",
       " -38: 'parzysta',\n",
       " -37: 'nieparzysta',\n",
       " -36: 'parzysta',\n",
       " -35: 'nieparzysta',\n",
       " -34: 'parzysta',\n",
       " -33: 'nieparzysta',\n",
       " -32: 'parzysta',\n",
       " -31: 'nieparzysta',\n",
       " -30: 'parzysta',\n",
       " -29: 'nieparzysta',\n",
       " -28: 'parzysta',\n",
       " -27: 'nieparzysta',\n",
       " -26: 'parzysta',\n",
       " -25: 'nieparzysta',\n",
       " -24: 'parzysta',\n",
       " -23: 'nieparzysta',\n",
       " -22: 'parzysta',\n",
       " -21: 'nieparzysta',\n",
       " -20: 'parzysta',\n",
       " -19: 'nieparzysta',\n",
       " -18: 'parzysta',\n",
       " -17: 'nieparzysta',\n",
       " -16: 'parzysta',\n",
       " -15: 'nieparzysta',\n",
       " -14: 'parzysta',\n",
       " -13: 'nieparzysta',\n",
       " -12: 'parzysta',\n",
       " -11: 'nieparzysta',\n",
       " -10: 'parzysta',\n",
       " -9: 'nieparzysta',\n",
       " -8: 'parzysta',\n",
       " -7: 'nieparzysta',\n",
       " -6: 'parzysta',\n",
       " -5: 'nieparzysta',\n",
       " -4: 'parzysta',\n",
       " -3: 'nieparzysta',\n",
       " -2: 'parzysta',\n",
       " -1: 'nieparzysta',\n",
       " 0: 'parzysta',\n",
       " 1: 'nieparzysta',\n",
       " 4: 'parzysta',\n",
       " 9: 'nieparzysta',\n",
       " 16: 'parzysta',\n",
       " 25: 'nieparzysta',\n",
       " 36: 'parzysta',\n",
       " 49: 'nieparzysta',\n",
       " 64: 'parzysta',\n",
       " 81: 'nieparzysta',\n",
       " 100: 'parzysta',\n",
       " 121: 'nieparzysta',\n",
       " 144: 'parzysta',\n",
       " 169: 'nieparzysta',\n",
       " 196: 'parzysta',\n",
       " 225: 'nieparzysta',\n",
       " 256: 'parzysta',\n",
       " 289: 'nieparzysta',\n",
       " 324: 'parzysta',\n",
       " 361: 'nieparzysta',\n",
       " 400: 'parzysta',\n",
       " 441: 'nieparzysta',\n",
       " 484: 'parzysta',\n",
       " 529: 'nieparzysta',\n",
       " 576: 'parzysta',\n",
       " 625: 'nieparzysta',\n",
       " 676: 'parzysta',\n",
       " 729: 'nieparzysta',\n",
       " 784: 'parzysta',\n",
       " 841: 'nieparzysta',\n",
       " 900: 'parzysta',\n",
       " 961: 'nieparzysta',\n",
       " 1024: 'parzysta',\n",
       " 1089: 'nieparzysta',\n",
       " 1156: 'parzysta',\n",
       " 1225: 'nieparzysta',\n",
       " 1296: 'parzysta',\n",
       " 1369: 'nieparzysta',\n",
       " 1444: 'parzysta',\n",
       " 1521: 'nieparzysta',\n",
       " 1600: 'parzysta',\n",
       " 1681: 'nieparzysta',\n",
       " 1764: 'parzysta',\n",
       " 1849: 'nieparzysta',\n",
       " 1936: 'parzysta',\n",
       " 2025: 'nieparzysta',\n",
       " 2116: 'parzysta',\n",
       " 2209: 'nieparzysta',\n",
       " 2304: 'parzysta',\n",
       " 2401: 'nieparzysta',\n",
       " 2500: 'parzysta',\n",
       " 2601: 'nieparzysta',\n",
       " 2704: 'parzysta',\n",
       " 2809: 'nieparzysta',\n",
       " 2916: 'parzysta',\n",
       " 3025: 'nieparzysta',\n",
       " 3136: 'parzysta',\n",
       " 3249: 'nieparzysta',\n",
       " 3364: 'parzysta',\n",
       " 3481: 'nieparzysta',\n",
       " 3600: 'parzysta',\n",
       " 3721: 'nieparzysta',\n",
       " 3844: 'parzysta',\n",
       " 3969: 'nieparzysta',\n",
       " 4096: 'parzysta',\n",
       " 4225: 'nieparzysta',\n",
       " 4356: 'parzysta',\n",
       " 4489: 'nieparzysta',\n",
       " 4624: 'parzysta',\n",
       " 4761: 'nieparzysta',\n",
       " 4900: 'parzysta',\n",
       " 5041: 'nieparzysta',\n",
       " 5184: 'parzysta',\n",
       " 5329: 'nieparzysta',\n",
       " 5476: 'parzysta',\n",
       " 5625: 'nieparzysta',\n",
       " 5776: 'parzysta',\n",
       " 5929: 'nieparzysta',\n",
       " 6084: 'parzysta',\n",
       " 6241: 'nieparzysta',\n",
       " 6400: 'parzysta',\n",
       " 6561: 'nieparzysta',\n",
       " 6724: 'parzysta',\n",
       " 6889: 'nieparzysta',\n",
       " 7056: 'parzysta',\n",
       " 7225: 'nieparzysta',\n",
       " 7396: 'parzysta',\n",
       " 7569: 'nieparzysta',\n",
       " 7744: 'parzysta',\n",
       " 7921: 'nieparzysta',\n",
       " 8100: 'parzysta',\n",
       " 8281: 'nieparzysta',\n",
       " 8464: 'parzysta',\n",
       " 8649: 'nieparzysta',\n",
       " 8836: 'parzysta',\n",
       " 9025: 'nieparzysta',\n",
       " 9216: 'parzysta',\n",
       " 9409: 'nieparzysta',\n",
       " 9604: 'parzysta',\n",
       " 9801: 'nieparzysta'}"
      ]
     },
     "execution_count": 32,
     "metadata": {},
     "output_type": "execute_result"
    }
   ],
   "source": [
    "{each : ('parzysta' if each  % 2 == 0 else 'nieparzysta') for each in Ic}"
   ]
  },
  {
   "cell_type": "markdown",
   "metadata": {},
   "source": [
    "###### Z8: Słownik, w którym hasłem jest liczba a znaczeniem informacja czy dana liczba jest podzielna czy niepodzielna przez 16. Zapisz do zmiennej s16"
   ]
  },
  {
   "cell_type": "code",
   "execution_count": 34,
   "metadata": {},
   "outputs": [],
   "source": [
    "s16 = {each : ('podzielna_przez_16' if each  % 16 == 0 else 'niepodzielna_przez_16') for each in Ic}"
   ]
  },
  {
   "cell_type": "markdown",
   "metadata": {},
   "source": [
    "###### Z9: Wektor wartości podzielnych przez 16 ze słownika s16"
   ]
  },
  {
   "cell_type": "code",
   "execution_count": 35,
   "metadata": {},
   "outputs": [
    {
     "data": {
      "text/plain": [
       "dict_keys([-92, -76, -33, 9, -13, -21, 5776, 1444, -6, 6400, -2, -47, -34, -86, -66, 1849, 49, -40, -42, 1936, 1369, -7, -14, 900, 3025, 64, 1024, 3481, 841, 1681, 0, -96, -9, 7569, 1225, -51, 5625, 8649, -39, 6889, 9801, -20, -98, 441, 25, 2209, -37, 6561, -73, -44, 169, 3364, -53, 4489, 81, -62, 5184, -82, 8464, 7056, 3844, -83, -28, -87, 36, -70, -32, 6084, -22, -100, 7225, 961, -30, 7744, -57, -64, -95, -29, 4900, -16, -5, 196, 361, -24, -67, 4, 2500, 9216, 8100, -50, 3969, 2601, -91, -79, 2809, 6724, -94, 4225, 484, 256, 7396, -61, -49, 2704, -55, -11, 5329, -65, -84, -88, -80, 1600, 2116, -8, -56, -43, 729, -27, 1089, 6241, -10, 9025, -23, 225, 2304, 4624, -72, 2025, -26, 3136, -18, -19, 289, -75, 8836, -89, 1, -78, -45, -58, -17, 7921, -63, 144, -1, -38, 5929, 121, 1521, -71, 2916, -48, 4096, -15, 676, 529, -52, -68, -60, 1764, 784, 16, -59, -35, -90, -74, 3721, -12, -41, -85, 1156, 100, 5476, 9409, -36, -25, 576, -4, -81, 4761, -54, -93, -77, -99, 400, 3600, 4356, 1296, -69, -97, 9604, -31, -46, 8281, -3, 625, 3249, 5041, 2401, 324])"
      ]
     },
     "execution_count": 35,
     "metadata": {},
     "output_type": "execute_result"
    }
   ],
   "source": [
    "s16.keys()"
   ]
  },
  {
   "cell_type": "code",
   "execution_count": 36,
   "metadata": {},
   "outputs": [
    {
     "data": {
      "text/plain": [
       "dict_values(['niepodzielna_przez_16', 'niepodzielna_przez_16', 'niepodzielna_przez_16', 'niepodzielna_przez_16', 'niepodzielna_przez_16', 'niepodzielna_przez_16', 'podzielna_przez_16', 'niepodzielna_przez_16', 'niepodzielna_przez_16', 'podzielna_przez_16', 'niepodzielna_przez_16', 'niepodzielna_przez_16', 'niepodzielna_przez_16', 'niepodzielna_przez_16', 'niepodzielna_przez_16', 'niepodzielna_przez_16', 'niepodzielna_przez_16', 'niepodzielna_przez_16', 'niepodzielna_przez_16', 'podzielna_przez_16', 'niepodzielna_przez_16', 'niepodzielna_przez_16', 'niepodzielna_przez_16', 'niepodzielna_przez_16', 'niepodzielna_przez_16', 'podzielna_przez_16', 'podzielna_przez_16', 'niepodzielna_przez_16', 'niepodzielna_przez_16', 'niepodzielna_przez_16', 'podzielna_przez_16', 'podzielna_przez_16', 'niepodzielna_przez_16', 'niepodzielna_przez_16', 'niepodzielna_przez_16', 'niepodzielna_przez_16', 'niepodzielna_przez_16', 'niepodzielna_przez_16', 'niepodzielna_przez_16', 'niepodzielna_przez_16', 'niepodzielna_przez_16', 'niepodzielna_przez_16', 'niepodzielna_przez_16', 'niepodzielna_przez_16', 'niepodzielna_przez_16', 'niepodzielna_przez_16', 'niepodzielna_przez_16', 'niepodzielna_przez_16', 'niepodzielna_przez_16', 'niepodzielna_przez_16', 'niepodzielna_przez_16', 'niepodzielna_przez_16', 'niepodzielna_przez_16', 'niepodzielna_przez_16', 'niepodzielna_przez_16', 'niepodzielna_przez_16', 'podzielna_przez_16', 'niepodzielna_przez_16', 'podzielna_przez_16', 'podzielna_przez_16', 'niepodzielna_przez_16', 'niepodzielna_przez_16', 'niepodzielna_przez_16', 'niepodzielna_przez_16', 'niepodzielna_przez_16', 'niepodzielna_przez_16', 'podzielna_przez_16', 'niepodzielna_przez_16', 'niepodzielna_przez_16', 'niepodzielna_przez_16', 'niepodzielna_przez_16', 'niepodzielna_przez_16', 'niepodzielna_przez_16', 'podzielna_przez_16', 'niepodzielna_przez_16', 'podzielna_przez_16', 'niepodzielna_przez_16', 'niepodzielna_przez_16', 'niepodzielna_przez_16', 'podzielna_przez_16', 'niepodzielna_przez_16', 'niepodzielna_przez_16', 'niepodzielna_przez_16', 'niepodzielna_przez_16', 'niepodzielna_przez_16', 'niepodzielna_przez_16', 'niepodzielna_przez_16', 'podzielna_przez_16', 'niepodzielna_przez_16', 'niepodzielna_przez_16', 'niepodzielna_przez_16', 'niepodzielna_przez_16', 'niepodzielna_przez_16', 'niepodzielna_przez_16', 'niepodzielna_przez_16', 'niepodzielna_przez_16', 'niepodzielna_przez_16', 'niepodzielna_przez_16', 'niepodzielna_przez_16', 'podzielna_przez_16', 'niepodzielna_przez_16', 'niepodzielna_przez_16', 'niepodzielna_przez_16', 'podzielna_przez_16', 'niepodzielna_przez_16', 'niepodzielna_przez_16', 'niepodzielna_przez_16', 'niepodzielna_przez_16', 'niepodzielna_przez_16', 'niepodzielna_przez_16', 'podzielna_przez_16', 'podzielna_przez_16', 'niepodzielna_przez_16', 'niepodzielna_przez_16', 'niepodzielna_przez_16', 'niepodzielna_przez_16', 'niepodzielna_przez_16', 'niepodzielna_przez_16', 'niepodzielna_przez_16', 'niepodzielna_przez_16', 'niepodzielna_przez_16', 'niepodzielna_przez_16', 'niepodzielna_przez_16', 'niepodzielna_przez_16', 'podzielna_przez_16', 'podzielna_przez_16', 'niepodzielna_przez_16', 'niepodzielna_przez_16', 'niepodzielna_przez_16', 'podzielna_przez_16', 'niepodzielna_przez_16', 'niepodzielna_przez_16', 'niepodzielna_przez_16', 'niepodzielna_przez_16', 'niepodzielna_przez_16', 'niepodzielna_przez_16', 'niepodzielna_przez_16', 'niepodzielna_przez_16', 'niepodzielna_przez_16', 'niepodzielna_przez_16', 'niepodzielna_przez_16', 'niepodzielna_przez_16', 'niepodzielna_przez_16', 'podzielna_przez_16', 'niepodzielna_przez_16', 'niepodzielna_przez_16', 'niepodzielna_przez_16', 'niepodzielna_przez_16', 'niepodzielna_przez_16', 'niepodzielna_przez_16', 'niepodzielna_przez_16', 'podzielna_przez_16', 'podzielna_przez_16', 'niepodzielna_przez_16', 'niepodzielna_przez_16', 'niepodzielna_przez_16', 'niepodzielna_przez_16', 'niepodzielna_przez_16', 'niepodzielna_przez_16', 'niepodzielna_przez_16', 'podzielna_przez_16', 'podzielna_przez_16', 'niepodzielna_przez_16', 'niepodzielna_przez_16', 'niepodzielna_przez_16', 'niepodzielna_przez_16', 'niepodzielna_przez_16', 'niepodzielna_przez_16', 'niepodzielna_przez_16', 'niepodzielna_przez_16', 'niepodzielna_przez_16', 'niepodzielna_przez_16', 'niepodzielna_przez_16', 'niepodzielna_przez_16', 'niepodzielna_przez_16', 'niepodzielna_przez_16', 'podzielna_przez_16', 'niepodzielna_przez_16', 'niepodzielna_przez_16', 'niepodzielna_przez_16', 'niepodzielna_przez_16', 'niepodzielna_przez_16', 'niepodzielna_przez_16', 'niepodzielna_przez_16', 'podzielna_przez_16', 'podzielna_przez_16', 'niepodzielna_przez_16', 'podzielna_przez_16', 'niepodzielna_przez_16', 'niepodzielna_przez_16', 'niepodzielna_przez_16', 'niepodzielna_przez_16', 'niepodzielna_przez_16', 'niepodzielna_przez_16', 'niepodzielna_przez_16', 'niepodzielna_przez_16', 'niepodzielna_przez_16', 'niepodzielna_przez_16', 'niepodzielna_przez_16', 'niepodzielna_przez_16'])"
      ]
     },
     "execution_count": 36,
     "metadata": {},
     "output_type": "execute_result"
    }
   ],
   "source": [
    "s16.values()"
   ]
  },
  {
   "cell_type": "code",
   "execution_count": null,
   "metadata": {},
   "outputs": [],
   "source": [
    "# trzeba zrobić list[s16.values()] żeby móc adresować po indeksie (odwoływać się)"
   ]
  },
  {
   "cell_type": "code",
   "execution_count": 37,
   "metadata": {},
   "outputs": [
    {
     "data": {
      "text/plain": [
       "array([5776, 6400, 1936,   64, 1024,    0,  -96, 5184, 8464, 7056,  -32,\n",
       "       7744,  -64,  -16, 9216,  256, 2704,  -80, 1600, 2304, 4624, 3136,\n",
       "        144,  -48, 4096,  784,   16,  576,  400, 3600, 1296])"
      ]
     },
     "execution_count": 37,
     "metadata": {},
     "output_type": "execute_result"
    }
   ],
   "source": [
    "np.array([each for each in s16.keys() if each % 16 == 0])"
   ]
  },
  {
   "cell_type": "markdown",
   "metadata": {},
   "source": [
    "###### Z10: Wektor wartości niepodzielnych przez 16 ze słownika s16"
   ]
  },
  {
   "cell_type": "code",
   "execution_count": 38,
   "metadata": {},
   "outputs": [
    {
     "data": {
      "text/plain": [
       "array([ -92,  -76,  -33,    9,  -13,  -21, 1444,   -6,   -2,  -47,  -34,\n",
       "        -86,  -66, 1849,   49,  -40,  -42, 1369,   -7,  -14,  900, 3025,\n",
       "       3481,  841, 1681,   -9, 7569, 1225,  -51, 5625, 8649,  -39, 6889,\n",
       "       9801,  -20,  -98,  441,   25, 2209,  -37, 6561,  -73,  -44,  169,\n",
       "       3364,  -53, 4489,   81,  -62,  -82, 3844,  -83,  -28,  -87,   36,\n",
       "        -70, 6084,  -22, -100, 7225,  961,  -30,  -57,  -95,  -29, 4900,\n",
       "         -5,  196,  361,  -24,  -67,    4, 2500, 8100,  -50, 3969, 2601,\n",
       "        -91,  -79, 2809, 6724,  -94, 4225,  484, 7396,  -61,  -49,  -55,\n",
       "        -11, 5329,  -65,  -84,  -88, 2116,   -8,  -56,  -43,  729,  -27,\n",
       "       1089, 6241,  -10, 9025,  -23,  225,  -72, 2025,  -26,  -18,  -19,\n",
       "        289,  -75, 8836,  -89,    1,  -78,  -45,  -58,  -17, 7921,  -63,\n",
       "         -1,  -38, 5929,  121, 1521,  -71, 2916,  -15,  676,  529,  -52,\n",
       "        -68,  -60, 1764,  -59,  -35,  -90,  -74, 3721,  -12,  -41,  -85,\n",
       "       1156,  100, 5476, 9409,  -36,  -25,   -4,  -81, 4761,  -54,  -93,\n",
       "        -77,  -99, 4356,  -69,  -97, 9604,  -31,  -46, 8281,   -3,  625,\n",
       "       3249, 5041, 2401,  324])"
      ]
     },
     "execution_count": 38,
     "metadata": {},
     "output_type": "execute_result"
    }
   ],
   "source": [
    "np.array([each for each in s16.keys() if each % 16 != 0])"
   ]
  },
  {
   "cell_type": "code",
   "execution_count": 39,
   "metadata": {},
   "outputs": [
    {
     "data": {
      "text/plain": [
       "array([ -92,  -76,  -33,    9,  -13,  -21, 1444,   -6,   -2,  -47,  -34,\n",
       "        -86,  -66, 1849,   49,  -40,  -42, 1369,   -7,  -14,  900, 3025,\n",
       "       3481,  841, 1681,   -9, 7569, 1225,  -51, 5625, 8649,  -39, 6889,\n",
       "       9801,  -20,  -98,  441,   25, 2209,  -37, 6561,  -73,  -44,  169,\n",
       "       3364,  -53, 4489,   81,  -62,  -82, 3844,  -83,  -28,  -87,   36,\n",
       "        -70, 6084,  -22, -100, 7225,  961,  -30,  -57,  -95,  -29, 4900,\n",
       "         -5,  196,  361,  -24,  -67,    4, 2500, 8100,  -50, 3969, 2601,\n",
       "        -91,  -79, 2809, 6724,  -94, 4225,  484, 7396,  -61,  -49,  -55,\n",
       "        -11, 5329,  -65,  -84,  -88, 2116,   -8,  -56,  -43,  729,  -27,\n",
       "       1089, 6241,  -10, 9025,  -23,  225,  -72, 2025,  -26,  -18,  -19,\n",
       "        289,  -75, 8836,  -89,    1,  -78,  -45,  -58,  -17, 7921,  -63,\n",
       "         -1,  -38, 5929,  121, 1521,  -71, 2916,  -15,  676,  529,  -52,\n",
       "        -68,  -60, 1764,  -59,  -35,  -90,  -74, 3721,  -12,  -41,  -85,\n",
       "       1156,  100, 5476, 9409,  -36,  -25,   -4,  -81, 4761,  -54,  -93,\n",
       "        -77,  -99, 4356,  -69,  -97, 9604,  -31,  -46, 8281,   -3,  625,\n",
       "       3249, 5041, 2401,  324])"
      ]
     },
     "execution_count": 39,
     "metadata": {},
     "output_type": "execute_result"
    }
   ],
   "source": [
    "#### można dłużej odwołując się dwóch zbiorów\n",
    "\n",
    "np.array([each for index, \n",
    "          each in \n",
    "          enumerate(s16.keys()) \n",
    "          if list(s16.values())[index]  == 'niepodzielna_przez_16'])"
   ]
  },
  {
   "cell_type": "code",
   "execution_count": null,
   "metadata": {},
   "outputs": [],
   "source": []
  }
 ],
 "metadata": {
  "kernelspec": {
   "display_name": "Python 3",
   "language": "python",
   "name": "python3"
  },
  "language_info": {
   "codemirror_mode": {
    "name": "ipython",
    "version": 3
   },
   "file_extension": ".py",
   "mimetype": "text/x-python",
   "name": "python",
   "nbconvert_exporter": "python",
   "pygments_lexer": "ipython3",
   "version": "3.6.4"
  }
 },
 "nbformat": 4,
 "nbformat_minor": 2
}
